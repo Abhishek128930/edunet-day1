{
 "cells": [
  {
   "cell_type": "code",
   "execution_count": 1,
   "id": "0f146a66",
   "metadata": {},
   "outputs": [
    {
     "name": "stdout",
     "output_type": "stream",
     "text": [
      "hello world\n"
     ]
    }
   ],
   "source": [
    "print(\"hello world\")"
   ]
  },
  {
   "cell_type": "code",
   "execution_count": 4,
   "id": "491cb258",
   "metadata": {},
   "outputs": [
    {
     "data": {
      "text/plain": [
       "5"
      ]
     },
     "execution_count": 4,
     "metadata": {},
     "output_type": "execute_result"
    }
   ],
   "source": [
    "deepak=5\n",
    "deepak"
   ]
  },
  {
   "cell_type": "code",
   "execution_count": 5,
   "id": "bcfefc5a",
   "metadata": {},
   "outputs": [
    {
     "name": "stdout",
     "output_type": "stream",
     "text": [
      "34\n",
      "34\n"
     ]
    }
   ],
   "source": [
    "x=10\n",
    "y=24\n",
    "z=x+y\n",
    "print(z)\n",
    "print(x+y)"
   ]
  },
  {
   "cell_type": "code",
   "execution_count": 6,
   "id": "2f3789ee",
   "metadata": {},
   "outputs": [
    {
     "name": "stdout",
     "output_type": "stream",
     "text": [
      "enter the value20\n"
     ]
    }
   ],
   "source": [
    "y=input(\"enter the value\")"
   ]
  },
  {
   "cell_type": "code",
   "execution_count": 7,
   "id": "c4601e3b",
   "metadata": {},
   "outputs": [
    {
     "data": {
      "text/plain": [
       "str"
      ]
     },
     "execution_count": 7,
     "metadata": {},
     "output_type": "execute_result"
    }
   ],
   "source": [
    "type(y)"
   ]
  },
  {
   "cell_type": "code",
   "execution_count": 8,
   "id": "ea1f1773",
   "metadata": {},
   "outputs": [
    {
     "name": "stdout",
     "output_type": "stream",
     "text": [
      "260000\n"
     ]
    }
   ],
   "source": [
    "profit_q1=50000\n",
    "profit_q2=60000\n",
    "profit_q3=70000\n",
    "profit_q4=80000\n",
    "total_profit=profit_q1+profit_q2+profit_q3+profit_q4\n",
    "print(total_profit)\n"
   ]
  },
  {
   "cell_type": "code",
   "execution_count": 9,
   "id": "f93407c7",
   "metadata": {},
   "outputs": [
    {
     "name": "stdout",
     "output_type": "stream",
     "text": [
      "False\n"
     ]
    }
   ],
   "source": [
    "password=\"secure1\"\n",
    "is_valid_length=len(password)>=8\n",
    "print(is_valid_length)"
   ]
  },
  {
   "cell_type": "code",
   "execution_count": 10,
   "id": "40b442f6",
   "metadata": {},
   "outputs": [
    {
     "name": "stdout",
     "output_type": "stream",
     "text": [
      "total members in the house5\n",
      "some members are missed2\n",
      "after the flood total members in the house 3\n",
      "missed members are arrived\n",
      "some mebers are coming with them23\n",
      "total members are 28\n"
     ]
    }
   ],
   "source": [
    "totalmembers=int(input(\"total members in the house\"))\n",
    "a=int(input(\"some members are missed\"))\n",
    "y=totalmembers-a\n",
    "print(\"after the flood total members in the house\",y)\n",
    "print(\"missed members are arrived\")\n",
    "b=int(input(\"some mebers are coming with them\"))\n",
    "z=y+a+b\n",
    "print(\"total members are\",z)\n"
   ]
  },
  {
   "cell_type": "code",
   "execution_count": 11,
   "id": "0a776133",
   "metadata": {},
   "outputs": [
    {
     "name": "stdout",
     "output_type": "stream",
     "text": [
      "360\n",
      "140\n"
     ]
    }
   ],
   "source": [
    "a=45\n",
    "students=8\n",
    "amount=a*students\n",
    "print(amount)\n",
    "totalpaid=500\n",
    "remain=totalpaid-amount\n",
    "print(remain)"
   ]
  },
  {
   "cell_type": "code",
   "execution_count": 13,
   "id": "45e321d0",
   "metadata": {},
   "outputs": [
    {
     "name": "stdout",
     "output_type": "stream",
     "text": [
      "18.0\n"
     ]
    }
   ],
   "source": [
    "temp1=20\n",
    "temp2=16\n",
    "temp=(temp1+temp2)/2\n",
    "if(temp1<=1):\n",
    "    print(temp1)\n",
    "else:\n",
    "    (temp2>=1)\n",
    "    print(temp)"
   ]
  },
  {
   "cell_type": "code",
   "execution_count": 17,
   "id": "0c4e85e3",
   "metadata": {},
   "outputs": [
    {
     "data": {
      "text/plain": [
       "'y'"
      ]
     },
     "execution_count": 17,
     "metadata": {},
     "output_type": "execute_result"
    }
   ],
   "source": [
    "name=\"shetty\"\n",
    "name[5]"
   ]
  },
  {
   "cell_type": "code",
   "execution_count": 26,
   "id": "f476d4a3",
   "metadata": {},
   "outputs": [
    {
     "name": "stdout",
     "output_type": "stream",
     "text": [
      "c\n"
     ]
    }
   ],
   "source": [
    "tutorial=\"geck mandya\"\n",
    "print(tutorial[2])"
   ]
  },
  {
   "cell_type": "code",
   "execution_count": 29,
   "id": "49034a16",
   "metadata": {},
   "outputs": [
    {
     "name": "stdout",
     "output_type": "stream",
     "text": [
      " edunet foundation\n"
     ]
    }
   ],
   "source": [
    "name=\"welcome to all we are sesion in edunet foundation we are learning AI\"\n",
    "print(name[31:49])"
   ]
  },
  {
   "cell_type": "code",
   "execution_count": null,
   "id": "d0e0657b",
   "metadata": {},
   "outputs": [],
   "source": []
  },
  {
   "cell_type": "code",
   "execution_count": 36,
   "id": "93ca2613",
   "metadata": {},
   "outputs": [
    {
     "ename": "SyntaxError",
     "evalue": "invalid syntax (4249617394.py, line 1)",
     "output_type": "error",
     "traceback": [
      "\u001b[1;36m  Input \u001b[1;32mIn [36]\u001b[1;36m\u001b[0m\n\u001b[1;33m    edunet foundation=\"data science is awesome\"\u001b[0m\n\u001b[1;37m           ^\u001b[0m\n\u001b[1;31mSyntaxError\u001b[0m\u001b[1;31m:\u001b[0m invalid syntax\n"
     ]
    }
   ],
   "source": [
    "edunet foundation=\"data science is awesome\"\n",
    "print(edunet foundation.replace('awesome','amazing'))="
   ]
  },
  {
   "cell_type": "code",
   "execution_count": 1,
   "id": "c04cec13",
   "metadata": {},
   "outputs": [],
   "source": [
    "f=[1,20,20.0,\"hello\"]"
   ]
  },
  {
   "cell_type": "code",
   "execution_count": 2,
   "id": "23f5f4d1",
   "metadata": {},
   "outputs": [
    {
     "data": {
      "text/plain": [
       "list"
      ]
     },
     "execution_count": 2,
     "metadata": {},
     "output_type": "execute_result"
    }
   ],
   "source": [
    "type(f)"
   ]
  },
  {
   "cell_type": "code",
   "execution_count": 3,
   "id": "32985ff1",
   "metadata": {},
   "outputs": [
    {
     "name": "stdout",
     "output_type": "stream",
     "text": [
      "1\n"
     ]
    }
   ],
   "source": [
    "b=[10,12,14,16,7]\n",
    "count=b.count(10)\n",
    "print(count)"
   ]
  },
  {
   "cell_type": "code",
   "execution_count": 4,
   "id": "aaefeaf1",
   "metadata": {},
   "outputs": [],
   "source": [
    "name=[\"ullas\",\"abhishek\",\"praveen\",\"yanka\",\"raju\"]"
   ]
  },
  {
   "cell_type": "code",
   "execution_count": 6,
   "id": "39a665c3",
   "metadata": {},
   "outputs": [
    {
     "name": "stdout",
     "output_type": "stream",
     "text": [
      "1\n"
     ]
    }
   ],
   "source": [
    "x=0\n",
    "for i in name:\n",
    "    if i==\"yanka\":\n",
    "        x=x+1\n",
    "        \n",
    "print(x)"
   ]
  },
  {
   "cell_type": "code",
   "execution_count": 8,
   "id": "8ffdc2fd",
   "metadata": {},
   "outputs": [
    {
     "data": {
      "text/plain": [
       "tuple"
      ]
     },
     "execution_count": 8,
     "metadata": {},
     "output_type": "execute_result"
    }
   ],
   "source": [
    "name=(\"dumsi\",30.0,\"pintu\",\"shona\",70.00000)\n",
    "type(name)"
   ]
  },
  {
   "cell_type": "code",
   "execution_count": 14,
   "id": "869631a7",
   "metadata": {},
   "outputs": [
    {
     "name": "stdout",
     "output_type": "stream",
     "text": [
      "* ** *** **** *****\n"
     ]
    }
   ],
   "source": [
    "a=\"*\"\n",
    "b=\"**\"\n",
    "c=\"***\"\n",
    "d=\"****\"\n",
    "e=\"*****\"\n",
    "print(a,\n",
    "      b,\n",
    "      c,\n",
    "      d,\n",
    "      e)"
   ]
  },
  {
   "cell_type": "code",
   "execution_count": 17,
   "id": "c28965b8",
   "metadata": {},
   "outputs": [
    {
     "name": "stdout",
     "output_type": "stream",
     "text": [
      "<class 'tuple'>\n",
      "4\n"
     ]
    }
   ],
   "source": [
    "my_tuple1=(1234,2345,3456,4567)\n",
    "my_tuple2=tuple((1,2,3,4))\n",
    "print(type(my_tuple1))\n",
    "print(len(my_tuple2))"
   ]
  },
  {
   "cell_type": "code",
   "execution_count": 18,
   "id": "c3e08e2f",
   "metadata": {},
   "outputs": [
    {
     "name": "stdout",
     "output_type": "stream",
     "text": [
      "3\n"
     ]
    }
   ],
   "source": [
    "name=(10,30,14,15,3)\n",
    "smallest=name[0]\n",
    "for i in name:\n",
    "    if i<smallest:\n",
    "        smallest=i\n",
    "print(smallest)"
   ]
  },
  {
   "cell_type": "code",
   "execution_count": 21,
   "id": "0769bac5",
   "metadata": {},
   "outputs": [
    {
     "name": "stdout",
     "output_type": "stream",
     "text": [
      "abhi\n"
     ]
    }
   ],
   "source": [
    "name=\"abhi\",\"ullas\",\"shetty\",\"raju\"\n",
    "age=(\"abhi(21)\",\"ullas(22)\",\"shetty(23)\",\"raju(23)\")\n",
    "smallest=name[0]\n",
    "for i in name:\n",
    "    if i<smallest:\n",
    "        smallest=i\n",
    "print(smallest)"
   ]
  },
  {
   "cell_type": "code",
   "execution_count": 24,
   "id": "ae84619d",
   "metadata": {},
   "outputs": [
    {
     "name": "stdout",
     "output_type": "stream",
     "text": [
      "ullas\n"
     ]
    }
   ],
   "source": [
    "name=\"abhi\",\"ullas\",\"shetty\",\"raju\"\n",
    "age=(\"abhi(21)\",\"ullas(22)\",\"shetty(23)\",\"raju(23)\")\n",
    "highest=name[2]\n",
    "for i in name:\n",
    "    if i>highest:\n",
    "        highest=i\n",
    "print(highest)"
   ]
  },
  {
   "cell_type": "code",
   "execution_count": null,
   "id": "d75f9794",
   "metadata": {},
   "outputs": [],
   "source": []
  }
 ],
 "metadata": {
  "kernelspec": {
   "display_name": "Python 3 (ipykernel)",
   "language": "python",
   "name": "python3"
  },
  "language_info": {
   "codemirror_mode": {
    "name": "ipython",
    "version": 3
   },
   "file_extension": ".py",
   "mimetype": "text/x-python",
   "name": "python",
   "nbconvert_exporter": "python",
   "pygments_lexer": "ipython3",
   "version": "3.9.12"
  }
 },
 "nbformat": 4,
 "nbformat_minor": 5
}
